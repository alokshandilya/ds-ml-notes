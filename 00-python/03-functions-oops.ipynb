{
 "cells": [
  {
   "cell_type": "markdown",
   "id": "3b0b8b15-a58e-4dcc-a73a-c1d90726ed6c",
   "metadata": {},
   "source": [
    "# Functions\n",
    "\n",
    "- block of organized, reusable code that performs a specific task\n",
    "- `def` keyword to define a function followed by a function name\n",
    "\n",
    "<div align=\"center\">\n",
    "    <img width=\"550px\" src=\"../img/function.png\">\n",
    "</div>"
   ]
  },
  {
   "cell_type": "markdown",
   "id": "b2ff15ac-49e0-4bff-a7a6-d02c1c530110",
   "metadata": {},
   "source": [
    "## Properties of a function\n",
    "\n",
    "1. **Modularity**  \n",
    "break down a program into smaller, manageable pieces.\n",
    "\n",
    "2. **Reusability**  \n",
    "block of code to write at one place, so that instead of writing the same code again and again for different inputs, we can do the function calls to reuse code contained in it over and over again.\n",
    "\n",
    "3. **Encapsulation**  \n",
    "internal details of a function are hidden from the rest of the program, but we can call the function anywhere and use its functionalities without how it does that.\n",
    "\n",
    "4. **Recursion**  \n",
    "Functions in Python can be recursive, meaning a function can call itself. This is a powerful technique for solving problems that can be broken down into smaller, similar sub-problems.\n"
   ]
  },
  {
   "cell_type": "markdown",
   "id": "435184c3-b306-425e-ad27-067d147fff1b",
   "metadata": {},
   "source": [
    "## Types of functions\n",
    "\n",
    "two types of functions in python\n",
    "\n",
    "- **built-in**\n",
    "- **user-defined**"
   ]
  },
  {
   "cell_type": "markdown",
   "id": "a7dc5b09-908f-41b2-8493-7a95f27c6caa",
   "metadata": {},
   "source": [
    "## Function Arguments\n",
    "\n",
    "- **Default Arguments**\n",
    "- **Keyword Arguments**\n",
    "- **Variable-length Arguments**"
   ]
  },
  {
   "cell_type": "code",
   "execution_count": 1,
   "id": "87a497c6-56f4-4014-99f2-464eaa905ca9",
   "metadata": {},
   "outputs": [
    {
     "name": "stdout",
     "output_type": "stream",
     "text": [
      "Hello, Alok!\n"
     ]
    }
   ],
   "source": [
    "# default arguments\n",
    "def greet(name, greeting=\"Hello\"):\n",
    "    message = f\"{greeting}, {name}!\"\n",
    "    return message\n",
    "print(greet(\"Alok\"))\n"
   ]
  },
  {
   "cell_type": "code",
   "execution_count": 3,
   "id": "5a02fecf-5752-4b34-be3e-e99dbf4cd070",
   "metadata": {},
   "outputs": [
    {
     "name": "stdout",
     "output_type": "stream",
     "text": [
      "Alok Shandilya\n",
      "Aryan Shandilya\n"
     ]
    }
   ],
   "source": [
    "# keyword arguments\n",
    "def student(firstname, lastname):\n",
    "\tprint(firstname, lastname)\n",
    "    \n",
    "# no need to remember the order of parameters\n",
    "student(firstname='Alok', lastname='Shandilya')\n",
    "student(lastname='Shandilya', firstname='Aryan')\n"
   ]
  },
  {
   "cell_type": "code",
   "execution_count": 6,
   "id": "576c5c4d-3980-4588-8493-c5bced25ee2d",
   "metadata": {},
   "outputs": [
    {
     "name": "stdout",
     "output_type": "stream",
     "text": [
      "Positional arguments: (1, 2, 3) <class 'tuple'>\n",
      "Keyword arguments: {'name': 'Rose', 'age': 24} <class 'dict'>\n"
     ]
    }
   ],
   "source": [
    "# variable length arguments\n",
    "def print_values(*args, **kwargs):\n",
    "    print(\"Positional arguments:\", args, type(args))\n",
    "    print(\"Keyword arguments:\", kwargs, type(kwargs))\n",
    "\n",
    "print_values(1, 2, 3, name=\"Rose\", age=24)"
   ]
  },
  {
   "cell_type": "markdown",
   "id": "3d080db1-cdde-4492-bcac-347d62303acb",
   "metadata": {},
   "source": [
    "## Nested Functions\n",
    "\n",
    "- function defined inside another function\n",
    "- **Closure** : inner function has access to the variables of the outer (enclosing) function, and it can use them even after the outer function has finished execution\n",
    "\n",
    "<div align=\"center\">\n",
    "    <img width=\"550px\" src=\"../img/nested-functions.png\">\n",
    "</div>"
   ]
  },
  {
   "cell_type": "code",
   "execution_count": 7,
   "id": "698d2054-5df2-42f5-942e-362948ef4388",
   "metadata": {},
   "outputs": [
    {
     "name": "stdout",
     "output_type": "stream",
     "text": [
      "15\n"
     ]
    }
   ],
   "source": [
    "def outer_function(x):\n",
    "    def inner_function(y):\n",
    "        return x + y\n",
    "    return inner_function\n",
    "\n",
    "add_5 = outer_function(5)\n",
    "print(add_5(10))"
   ]
  },
  {
   "cell_type": "markdown",
   "id": "9c6913a5-8287-4a98-b227-3cd695443866",
   "metadata": {},
   "source": [
    "- `add_5` becomes a closure because it remembers the value of `x` (which is $5$) even after `outer_function` has finished executing.\n",
    "- When we call `add_5(10)`, it adds $5$ (the remembered value of `x`) to $10$, resulting in $15$."
   ]
  },
  {
   "cell_type": "markdown",
   "id": "b71fd2f4-a742-481b-aa2b-6305c52f190d",
   "metadata": {},
   "source": [
    "## Recursive function\n",
    "\n",
    "A recursive function is a function that calls itself either directly or indirectly in order to solve a problem. Recursive functions are useful for solving problems that can be broken down into smaller, similar sub-problems."
   ]
  },
  {
   "cell_type": "code",
   "execution_count": 8,
   "id": "2bc21fe8-3417-4d3c-94b9-5dd0f1576ecb",
   "metadata": {},
   "outputs": [
    {
     "name": "stdout",
     "output_type": "stream",
     "text": [
      "120\n"
     ]
    }
   ],
   "source": [
    "def factorial(n):\n",
    "    if n == 0 or n == 1:\n",
    "        return 1\n",
    "    else:\n",
    "        return n * factorial(n-1)\n",
    "\n",
    "result = factorial(5)\n",
    "print(result) \n"
   ]
  },
  {
   "cell_type": "markdown",
   "id": "4ba011c1-5fd5-4bf8-99d8-fafd19cbb5b3",
   "metadata": {},
   "source": [
    "## Question\n",
    "\n",
    "Calculate the nth term of the Ackermann function.\n",
    "\n",
    "> _The Ackermann function is a recursive mathematical function that is exceptionally fast-growing. It is often used to demonstrate the difference in growth rates between simple recursive algorithms and more efficient ones._\n",
    "\n",
    "- If m = 0, the result is n + 1.\n",
    "- If m > 0 and n = 0, the result is ackermann(m-1, 1).\n",
    "- If m > 0 and n > 0, the result is ackermann(m-1, ackermann(m, n-1))."
   ]
  },
  {
   "cell_type": "code",
   "execution_count": 9,
   "id": "89bc197a-f16c-4b3f-93e4-0557610ad0b3",
   "metadata": {},
   "outputs": [
    {
     "name": "stdout",
     "output_type": "stream",
     "text": [
      "125\n"
     ]
    }
   ],
   "source": [
    "def ackermann(m, n):\n",
    "    if m == 0:\n",
    "        return n + 1\n",
    "    elif m > 0 and n == 0:\n",
    "        return ackermann(m-1, 1)\n",
    "    elif m > 0 and n > 0:\n",
    "        return ackermann(m-1, ackermann(m, n-1))\n",
    "\n",
    "result = ackermann(3, 4)\n",
    "print(result)  \n"
   ]
  },
  {
   "cell_type": "markdown",
   "id": "5a33e923-74e4-4d1d-87f7-835ab5f7473e",
   "metadata": {},
   "source": [
    "# Modules\n",
    "\n",
    "- python files containig variables, functions and classes.\n",
    "- help organize code into logical, reusable units.\n",
    "- modules make it easier to manage and scale Python projects by breaking them down into smaller components."
   ]
  },
  {
   "cell_type": "markdown",
   "id": "421656d2-479a-406b-9d9a-60cd4dca2a34",
   "metadata": {},
   "source": [
    "## Creating a Module\n",
    "\n",
    "- create a python file `list_operations.py`"
   ]
  },
  {
   "cell_type": "code",
   "execution_count": 10,
   "id": "4689a606-5d75-48fe-8a9c-accdfbd1a2f9",
   "metadata": {},
   "outputs": [],
   "source": [
    "def find_average(numbers):\n",
    "    if not numbers:\n",
    "        return 0\n",
    "    return sum(numbers) / len(numbers)\n",
    "\n",
    "def filter_even(numbers):\n",
    "    return [num for num in numbers if num % 2 == 0]\n",
    "\n",
    "def reverse_list(input_list):\n",
    "    return input_list[::-1]\n",
    "\n",
    "def concatenate_lists(list1, list2):\n",
    "    return list1 + list2"
   ]
  },
  {
   "cell_type": "markdown",
   "id": "faea56cb-a235-4bfc-855d-ac0ba6b06e17",
   "metadata": {},
   "source": [
    "## Importing Module\n",
    "\n",
    "- **Importing entire module**: `import list_operations`\n",
    "- **Import specific functions**: `from list_operations import filter_even`\n",
    "- **Import with an alias**: `import list_operations as op`"
   ]
  },
  {
   "cell_type": "code",
   "execution_count": null,
   "id": "de6ec60e-f947-48c6-bba3-2c38a1514f2e",
   "metadata": {},
   "outputs": [],
   "source": []
  }
 ],
 "metadata": {
  "kernelspec": {
   "display_name": "Python 3 (ipykernel)",
   "language": "python",
   "name": "python3"
  },
  "language_info": {
   "codemirror_mode": {
    "name": "ipython",
    "version": 3
   },
   "file_extension": ".py",
   "mimetype": "text/x-python",
   "name": "python",
   "nbconvert_exporter": "python",
   "pygments_lexer": "ipython3",
   "version": "3.12.4"
  }
 },
 "nbformat": 4,
 "nbformat_minor": 5
}
