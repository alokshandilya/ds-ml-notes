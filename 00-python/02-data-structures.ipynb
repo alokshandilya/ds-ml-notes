{
 "cells": [
  {
   "cell_type": "markdown",
   "metadata": {},
   "source": [
    "# Need for Data Structures\n",
    "\n",
    "- a way of organizing and storing data so that they can be accessed and worked with efficiently.\n",
    "- define the relationship between the data, and the operations that can be performed on the data."
   ]
  },
  {
   "cell_type": "markdown",
   "metadata": {},
   "source": [
    "### Data Science View\n",
    "\n",
    "- **Naming and Storing Information** : Variables\n",
    "- **Categorizing Information** : Data types (`int`, `float`, `str` etc.)\n",
    "- **Storing and Finding Stuff** : `list`, `set`, `tuple` etc.\n",
    "  - lists being flexible and mutable unlike tuples\n",
    "- **Labelling and Retrieving Information** : `dict`\n",
    "  - find information based on a key / label instead of an index\n",
    "- **Quick Queue** : `collections.deque`\n",
    "  - supports fast appends and pops from both ends "
   ]
  },
  {
   "cell_type": "code",
   "execution_count": 3,
   "metadata": {},
   "outputs": [
    {
     "name": "stdout",
     "output_type": "stream",
     "text": [
      "deque(['Alok', 'Nitin', 'Rahul', 'Raj'])\n",
      "deque(['Ravi', 'Alok', 'Nitin', 'Rahul', 'Raj'])\n",
      "deque(['Ravi', 'Alok', 'Nitin', 'Rahul'])\n",
      "deque(['Alok', 'Nitin', 'Rahul'])\n"
     ]
    }
   ],
   "source": [
    "from collections import deque\n",
    "\n",
    "# create a deque\n",
    "people_line = deque([\"Alok\", \"Nitin\", \"Rahul\"])\n",
    "\n",
    "# joining and leaving\n",
    "people_line.append(\"Raj\")\n",
    "print(people_line)\n",
    "people_line.appendleft(\"Ravi\")\n",
    "print(people_line)\n",
    "people_line.pop()\n",
    "print(people_line)\n",
    "people_line.popleft()\n",
    "print(people_line)"
   ]
  },
  {
   "cell_type": "markdown",
   "metadata": {},
   "source": [
    "## List\n",
    "\n",
    "- are dynamic, i.e., they can grow and shrink as needed\n",
    "- maintain the order of elements as they are inserted\n",
    "- can contain duplicate elements\n",
    "- mutable, i.e., elements can be added, removed, or changed\n",
    "- can contain elements of different types\n",
    "\n",
    "<div align=\"center\">\n",
    "    <img width=\"550px\" src=\"../img/list-slicing.png\">\n",
    "</div>"
   ]
  },
  {
   "cell_type": "code",
   "execution_count": 10,
   "metadata": {},
   "outputs": [
    {
     "name": "stdout",
     "output_type": "stream",
     "text": [
      "student_roll: 10, student_name: Alok, student_totalMarks: 192\n"
     ]
    }
   ],
   "source": [
    "student_info = [10, \"Alok\", \"MCA\", 95, 97, 192]\n",
    "print(\"student_roll:\", student_info[0], end=\", \")\n",
    "print(\"student_name:\", student_info[1], end=\", \")\n",
    "print(\"student_totalMarks:\", student_info[-1])"
   ]
  },
  {
   "cell_type": "code",
   "execution_count": null,
   "metadata": {},
   "outputs": [],
   "source": []
  }
 ],
 "metadata": {
  "kernelspec": {
   "display_name": "Python 3 (ipykernel)",
   "language": "python",
   "name": "python3"
  },
  "language_info": {
   "codemirror_mode": {
    "name": "ipython",
    "version": 3
   },
   "file_extension": ".py",
   "mimetype": "text/x-python",
   "name": "python",
   "nbconvert_exporter": "python",
   "pygments_lexer": "ipython3",
   "version": "3.12.4"
  }
 },
 "nbformat": 4,
 "nbformat_minor": 4
}
