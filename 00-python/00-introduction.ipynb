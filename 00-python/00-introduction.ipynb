{
 "cells": [
  {
   "cell_type": "markdown",
   "metadata": {},
   "source": [
    "# Introduction to Python\n",
    "\n",
    "- no declaration of data types of variables, or return types of functions\n",
    "  - are interpreted at runtime, that's why it's **Dynamically-typed language**\n",
    "- no need to use curly braces `{}` or semicolons `;`\n",
    "\n",
    "- everything is an object in Python\n",
    "  - so, data types are actually classes\n",
    "  - variables are instances (object) of these classes\n",
    "\n",
    "- Python datatypes\n",
    "  - **Numeric** : `int`, `float`, `complex`\n",
    "  - **Sequence** : `str`, `list`, `tuple`\n",
    "  - **Boolean** : `bool` (True, False)\n",
    "  - **Set** : `set`, `frozenset` (returns an unchangeable frozenset object)\n",
    "  - **Dictionary** : `dict`\n",
    "  - **Binary** : `bytes`, `bytearray`, `memoryview`\n",
    "  - **None** (is a data type of the class `NoneType` object)"
   ]
  },
  {
   "cell_type": "code",
   "execution_count": 1,
   "metadata": {},
   "outputs": [
    {
     "name": "stdout",
     "output_type": "stream",
     "text": [
      "<class 'complex'>\n",
      "(4+2j)\n",
      "<class 'str'>\n"
     ]
    }
   ],
   "source": [
    "a = 1 + 3.0 + 2j\n",
    "print(type(a))\n",
    "print(a)\n",
    "\n",
    "char = 'a'\n",
    "print(type(char))"
   ]
  },
  {
   "cell_type": "markdown",
   "metadata": {},
   "source": [
    "## Comments in Python\n",
    "\n",
    "- single line comment : `#`\n",
    "- multi-line comment : `'''` or `\"\"\"`\n",
    "  - used as docstring for functions, classes, modules"
   ]
  },
  {
   "cell_type": "code",
   "execution_count": 2,
   "metadata": {},
   "outputs": [
    {
     "name": "stdout",
     "output_type": "stream",
     "text": [
      "Hello, World!\n",
      "Hello\n",
      "      World\n",
      "      I am Alok Shandilya\n",
      "3\n",
      "\n",
      "    Returns the sum of a and b.\n",
      "    \n",
      "    Note: This function can handle both integer and string inputs.\n",
      "    For strings, it concatenates the two inputs.\n",
      "    \n"
     ]
    }
   ],
   "source": [
    "# This is a comment\n",
    "print(\"Hello, World!\")\n",
    "print(\"\"\"Hello\n",
    "      World\n",
    "      I am Alok Shandilya\"\"\")\n",
    "\n",
    "\n",
    "def add(a, b):\n",
    "    \"\"\"\n",
    "    Returns the sum of a and b.\n",
    "    \n",
    "    Note: This function can handle both integer and string inputs.\n",
    "    For strings, it concatenates the two inputs.\n",
    "    \"\"\"\n",
    "    return a + b\n",
    "\n",
    "\n",
    "print(add(1, 2))\n",
    "print(add.__doc__)"
   ]
  },
  {
   "cell_type": "markdown",
   "metadata": {},
   "source": [
    "## Operators in Python\n",
    "\n",
    "- **Arithmetic** : `+`, `-`, `*`, `/`, `%`, `//`, `**`\n",
    "- **Comparison** *or* **Relational** : `==`, `!=`, `>`, `<`, `>=`, `<=`\n",
    "- **Logical** : `and`, `or`, `not`\n",
    "- **Bitwise** : `&` (bitwise AND), `|` (bitwise OR), `^` (bitwise XOR), `~` (bitwise NOT), `<<` (left shift), `>>` (right shift)\n",
    "- **Assignment** : `=`, `+=`, `-=`, `*=`, `/=`, `%=`, `//=`, `**=`, `&=`, `|=`, `^=`, `<<=`, `>>=`\n",
    "  - [GFG | Article](https://www.geeksforgeeks.org/python-operators/)"
   ]
  },
  {
   "cell_type": "markdown",
   "metadata": {},
   "source": [
    "## Type Conversion\n",
    "\n",
    "- also known as **Type Casting** or **Type Coercion**\n",
    "- 2 types of type conversion\n",
    "  - **Implicit Type Conversion** : automatically done by Python\n",
    "  - **Explicit Type Conversion** : done by user using predefined functions like `int()`, `float()`, `str()`, etc."
   ]
  },
  {
   "cell_type": "code",
   "execution_count": 3,
   "metadata": {},
   "outputs": [
    {
     "name": "stdout",
     "output_type": "stream",
     "text": [
      "14.7\n"
     ]
    }
   ],
   "source": [
    "print(7 + 7.7)  # implicit type conversion"
   ]
  },
  {
   "cell_type": "markdown",
   "metadata": {},
   "source": [
    "explicit type conversion is also called **Type Casting**\n",
    "\n",
    "- `int()`\n",
    "  - converts `float`, `string` (if number), `bool`\n",
    "- `float()`\n",
    "  - converts `int`, `string` (if number, *including `.`*), `bool`\n",
    "- `str()`\n",
    "  - converts `int`, `float`, `complex`, `bool`\n",
    "- `complex()`\n",
    "  - converts `int`, `float`, `string` (if number / or complex), `bool`\n",
    "- `list()`\n",
    "  - converts `tuple`, `string`, `range`, `set`, `dict`\n",
    "- `tuple()`\n",
    "  - converts `list`, `string`, `range`, `set`, `dict`\n",
    "- `set()`\n",
    "  - converts `list`, `tuple`, `string`, `range`, `dict`\n",
    "- `dict()`\n",
    "  - converts `list` of `lists`, `tuple` of `tuples`\n",
    "  - `tuple` of `list`, `list` of `tuple`\n",
    "  - `list` of `dict`\n",
    "  - keyword arguments eg. `dict(a=1, b=2)`\n",
    "  - `zip()` function to convert 2 lists into dictionary\n",
    "    - `dict(zip(['a', 2, 'c'], [1, 'b', 3]))`"
   ]
  },
  {
   "cell_type": "code",
   "execution_count": 4,
   "metadata": {},
   "outputs": [
    {
     "name": "stdout",
     "output_type": "stream",
     "text": [
      "14.7\n"
     ]
    },
    {
     "ename": "ValueError",
     "evalue": "invalid literal for int() with base 10: '7.7'",
     "output_type": "error",
     "traceback": [
      "\u001b[0;31m---------------------------------------------------------------------------\u001b[0m",
      "\u001b[0;31mValueError\u001b[0m                                Traceback (most recent call last)",
      "Cell \u001b[0;32mIn[4], line 2\u001b[0m\n\u001b[1;32m      1\u001b[0m \u001b[38;5;28mprint\u001b[39m(\u001b[38;5;28mfloat\u001b[39m(\u001b[38;5;124m'\u001b[39m\u001b[38;5;124m7.7\u001b[39m\u001b[38;5;124m'\u001b[39m) \u001b[38;5;241m+\u001b[39m \u001b[38;5;241m7\u001b[39m)\n\u001b[0;32m----> 2\u001b[0m \u001b[38;5;28mprint\u001b[39m(\u001b[38;5;28;43mint\u001b[39;49m\u001b[43m(\u001b[49m\u001b[38;5;124;43m'\u001b[39;49m\u001b[38;5;124;43m7.7\u001b[39;49m\u001b[38;5;124;43m'\u001b[39;49m\u001b[43m)\u001b[49m \u001b[38;5;241m+\u001b[39m \u001b[38;5;241m7\u001b[39m)\n",
      "\u001b[0;31mValueError\u001b[0m: invalid literal for int() with base 10: '7.7'"
     ]
    }
   ],
   "source": [
    "print(float('7.7') + 7)\n",
    "print(int('7.7') + 7)"
   ]
  },
  {
   "cell_type": "code",
   "execution_count": 5,
   "metadata": {},
   "outputs": [
    {
     "name": "stdout",
     "output_type": "stream",
     "text": [
      "14\n",
      "14.7\n",
      "----------\n",
      "['1', '2', '3', 'h', 'e', 'l', 'l', 'o'] <class 'list'>\n",
      "----------\n",
      "[1, 2] <class 'list'>\n",
      "----------\n",
      "{'a': 3, 'b': 2}\n",
      "----------\n",
      "{'a': 1, 'b': 2, 'c': 3}\n",
      "----------\n",
      "{'a': 1, 'b': 2, 'c': 3}\n"
     ]
    }
   ],
   "source": [
    "print(int(7.7) + 7)  # explicit type conversion\n",
    "print(int('7') + 7.7)\n",
    "print(\"-\" * 10)\n",
    "\n",
    "val = \"123hello\"\n",
    "print(list(val), type(list(val)))\n",
    "print(\"-\" * 10)\n",
    "\n",
    "x = {1: 'one', 2: 'two'}\n",
    "print(list(x), type(list(x)))\n",
    "print(\"-\" * 10)\n",
    "\n",
    "list_of_dicts = [{'a': 1}, {'b': 2}, {'a': 3}]\n",
    "dictionary = {k: v for d in list_of_dicts for k, v in d.items()}\n",
    "print(dictionary)\n",
    "print(\"-\" * 10)\n",
    "\n",
    "dictionary = dict(a=1, b=2, c=3)\n",
    "print(dictionary)\n",
    "print(\"-\" * 10)\n",
    "\n",
    "key_value_pairs = zip(['a', 'b', 'c'], [1, 2, 3])\n",
    "dictionary = dict(key_value_pairs)\n",
    "print(dictionary)"
   ]
  },
  {
   "cell_type": "markdown",
   "metadata": {},
   "source": [
    "## Strings\n",
    "\n",
    "- **String** is a sequence of characters\n",
    "- **Immutable** : cannot be changed once declared\n",
    "- **Enclosed** in single quotes `'`, double quotes `\"` or triple quotes `'''` or `\"\"\"`\n",
    "- **Escape** special characters using `\\`\n",
    "  - `\\'`, `\\\"`, `\\\\`, `\\n`, `\\t`, `\\b`, `\\r`, `\\f`, `\\ooo`, `\\xhh`\n",
    "- **Formatted** strings using `f` or `F` before the string and `{}` to insert variables"
   ]
  },
  {
   "cell_type": "code",
   "execution_count": 28,
   "metadata": {},
   "outputs": [
    {
     "name": "stdout",
     "output_type": "stream",
     "text": [
      "hello alok\n"
     ]
    }
   ],
   "source": [
    "str1 = \"       helLO         \"\n",
    "str2 = \"       alOK     \"\n",
    "\n",
    "# Concatenation\n",
    "print(str1.capitalize().strip() + \" \" + str2.capitalize().strip())"
   ]
  },
  {
   "cell_type": "markdown",
   "metadata": {},
   "source": [
    "- `*` : repeat a string\n",
    "- `+` : concatenate strings\n",
    "- `len()` : length of a string\n",
    "- `in` : check if a substring is present in a string\n",
    "- `str.lower()`, `str.upper()`, `str.title()`, `str.capitalize()` : change case of string\n",
    "- `str.strip()`, `str.lstrip()`, `str.rstrip()` : remove whitespace\n",
    "- `str.replace` : replace a substring\n",
    "- `str.split()` : split a string into a list of substrings\n",
    "- `str.count()` : count occurrences of a substring\n",
    "- `str.find()`, `str.index()` : find the index of a substring\n",
    "\n",
    "> **String** methods : [Docs | Python Docs](https://docs.python.org/3/library/stdtypes.html#string-methods)"
   ]
  },
  {
   "cell_type": "markdown",
   "metadata": {},
   "source": [
    "### String Slicing\n",
    "\n",
    "- `str[start:stop:step]`\n",
    "  - `start` : starting index, default is $0$\n",
    "  - `stop` : ending index, default is `len(str)`\n",
    "  - `step` : step size to move from `start` to `stop`, default is $1$\n",
    "- **negative indexing** : starts from the end of the string\n",
    "  - `-1` is the last character"
   ]
  },
  {
   "cell_type": "code",
   "execution_count": 30,
   "metadata": {},
   "outputs": [
    {
     "name": "stdout",
     "output_type": "stream",
     "text": [
      "olleh\n"
     ]
    }
   ],
   "source": [
    "str = \"hello\"\n",
    "print(str[::-1])  # reverse a string"
   ]
  },
  {
   "cell_type": "markdown",
   "metadata": {},
   "source": [
    "## Variables\n",
    "\n",
    "A python variable is a name given to a memory location to store values and is the basic unit of storage in a program.\n",
    "\n",
    "### Assigning Values to Variables\n",
    "\n",
    "- **Single Assignment** : assign a single value to a single variable\n",
    "- **Multiple Assignment** : assign multiple values to multiple variables\n",
    "  - `a, b, c = 5, 3.2, \"Hello\"`\n",
    "- **Chained Assignment** : assign a single value to multiple variables\n",
    "  - `a = b = c = 5`\n",
    "- **Augmented Assignment** : shorthand for updating the value of a variable\n",
    "  - `a += 1` is equivalent to `a = a + 1`"
   ]
  },
  {
   "cell_type": "code",
   "execution_count": 34,
   "metadata": {},
   "outputs": [
    {
     "name": "stdout",
     "output_type": "stream",
     "text": [
      "5\n",
      "----------\n",
      "3 4\n",
      "----------\n",
      "5 5 5\n",
      "----------\n",
      "0\n"
     ]
    }
   ],
   "source": [
    "a = 5\n",
    "print(a)\n",
    "print(\"-\" * 10)\n",
    "\n",
    "b, c = 3, 4\n",
    "print(b, c)\n",
    "print(\"-\" * 10)\n",
    "\n",
    "d = e = f = 5\n",
    "print(d, e, f)\n",
    "print(\"-\" * 10)\n",
    "\n",
    "f -= 5\n",
    "print(f)"
   ]
  },
  {
   "cell_type": "markdown",
   "metadata": {},
   "source": [
    "## Variable Naming Conventions\n",
    "\n",
    "- A Python variable name must start with a letter or the underscore character.\n",
    "- A Python variable name cannot start with a number.\n",
    "- A Python variable name can only contain alpha-numeric characters and underscores (`A-z`, `0-9`, and `_` ).\n",
    "- Variable in Python names are case-sensitive (`name`, `Name`, and `NAME` are three different variables).\n",
    "- The reserved words(keywords) in Python cannot be used to name the variable in Python.\n",
    "- **Snake Case** : use underscores to separate words in a variable name\n",
    "  - *(recommended)*\n",
    "- **Camel Case** : capitalize the first letter of each word except the first word\n",
    "- **Style Guide** : follow PEP 8 style guide for Python code\n",
    "  - [PEP 8 | Python.org](https://www.python.org/dev/peps/pep-0008/)"
   ]
  }
 ],
 "metadata": {
  "kernelspec": {
   "display_name": "Python 3 (ipykernel)",
   "language": "python",
   "name": "python3"
  },
  "language_info": {
   "codemirror_mode": {
    "name": "ipython",
    "version": 3
   },
   "file_extension": ".py",
   "mimetype": "text/x-python",
   "name": "python",
   "nbconvert_exporter": "python",
   "pygments_lexer": "ipython3",
   "version": "3.12.4"
  }
 },
 "nbformat": 4,
 "nbformat_minor": 4
}
